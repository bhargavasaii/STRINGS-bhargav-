{
 "cells": [
  {
   "cell_type": "code",
   "execution_count": 1,
   "id": "6fd60aa2",
   "metadata": {},
   "outputs": [],
   "source": [
    "#1. Write a python program to convert a string to lower case\n"
   ]
  },
  {
   "cell_type": "code",
   "execution_count": 2,
   "id": "b5a19a04",
   "metadata": {},
   "outputs": [
    {
     "name": "stdout",
     "output_type": "stream",
     "text": [
      "bhargav\n"
     ]
    },
    {
     "data": {
      "text/plain": [
       "'bhargav'"
      ]
     },
     "execution_count": 2,
     "metadata": {},
     "output_type": "execute_result"
    }
   ],
   "source": [
    "a=input()\n",
    "a.lower()"
   ]
  },
  {
   "cell_type": "markdown",
   "id": "657e98c9",
   "metadata": {},
   "source": [
    "#2.Write a python program to convert only odd indexed characters to lower case\n",
    "Ex: PYTHON\n",
    "Output: - PyThOn"
   ]
  },
  {
   "cell_type": "code",
   "execution_count": 4,
   "id": "7af96307",
   "metadata": {},
   "outputs": [
    {
     "name": "stdout",
     "output_type": "stream",
     "text": [
      "bhargav\n"
     ]
    },
    {
     "data": {
      "text/plain": [
       "' BhArGaV'"
      ]
     },
     "execution_count": 4,
     "metadata": {},
     "output_type": "execute_result"
    }
   ],
   "source": [
    "a=input()\n",
    "b=\" \"\n",
    "for i in range(len(a)):\n",
    "    if i%2==0:\n",
    "        b=b+a[i].upper()\n",
    "    else:\n",
    "        b=b+a[i].lower()\n",
    "b        "
   ]
  },
  {
   "cell_type": "markdown",
   "id": "ab463be1",
   "metadata": {},
   "source": [
    "#3.Write a python program to convert only even indexed characters to lower case\n",
    "Ex: PYTHON\n",
    "Output: - pYtHoN\n",
    "\n"
   ]
  },
  {
   "cell_type": "code",
   "execution_count": 5,
   "id": "74a5b227",
   "metadata": {},
   "outputs": [
    {
     "name": "stdout",
     "output_type": "stream",
     "text": [
      "bhargav\n"
     ]
    },
    {
     "data": {
      "text/plain": [
       "' bHaRgAv'"
      ]
     },
     "execution_count": 5,
     "metadata": {},
     "output_type": "execute_result"
    }
   ],
   "source": [
    "a=input()\n",
    "b=\" \"\n",
    "for i in range(len(a)):\n",
    "    if i%2==1:\n",
    "        b=b+a[i].upper()\n",
    "    else:\n",
    "        b=b+a[i].lower()\n",
    "b        "
   ]
  },
  {
   "cell_type": "markdown",
   "id": "3f22ff40",
   "metadata": {},
   "source": [
    "#4. Write a python program to convert only odd indexed characters to upper case\n",
    "Ex: python\n",
    "Output: pYtHoN"
   ]
  },
  {
   "cell_type": "code",
   "execution_count": 9,
   "id": "e3d775ff",
   "metadata": {},
   "outputs": [
    {
     "name": "stdout",
     "output_type": "stream",
     "text": [
      "bhargav\n"
     ]
    },
    {
     "data": {
      "text/plain": [
       "' bHaRgAv'"
      ]
     },
     "execution_count": 9,
     "metadata": {},
     "output_type": "execute_result"
    }
   ],
   "source": [
    "a=input()\n",
    "b=\" \"\n",
    "for i in range(len(a)):\n",
    "    if i%2==1:\n",
    "        b=b+a[i].upper()\n",
    "    else:\n",
    "        b=b+a[i].lower()\n",
    "b        \n",
    "\n"
   ]
  },
  {
   "cell_type": "markdown",
   "id": "c6e443d6",
   "metadata": {},
   "source": [
    "#5. Write a python program to convert only even indexed characters to upper case\n",
    "Ex: python\n",
    "Output: - PyThOn"
   ]
  },
  {
   "cell_type": "code",
   "execution_count": 10,
   "id": "a16cd3eb",
   "metadata": {},
   "outputs": [
    {
     "name": "stdout",
     "output_type": "stream",
     "text": [
      "bhargav\n"
     ]
    },
    {
     "data": {
      "text/plain": [
       "' BhArGaV'"
      ]
     },
     "execution_count": 10,
     "metadata": {},
     "output_type": "execute_result"
    }
   ],
   "source": [
    "a=input()\n",
    "b=\" \"\n",
    "for i in range(len(a)):\n",
    "    if i%2==0:\n",
    "        b=b+a[i].upper()\n",
    "    else:\n",
    "        b=b+a[i].lower()\n",
    "b        \n",
    "    "
   ]
  },
  {
   "cell_type": "markdown",
   "id": "51242c2a",
   "metadata": {},
   "source": [
    "#6. Write a python program where you have different variable which contains your\n",
    "name, gender, age, phone number, father’s name and mother’s name.\n",
    "And by using this variable create a variable named bio-data where you will use all\n",
    "this variable\n",
    "\n",
    "Ex: print(bio-data)\n",
    "Output:- My name is …., My age is ….,My phone-no is ….,my father’s name is …,and my mother’s name is…\n",
    "\n",
    "\n"
   ]
  },
  {
   "cell_type": "code",
   "execution_count": 11,
   "id": "08b7bee1",
   "metadata": {},
   "outputs": [
    {
     "name": "stdout",
     "output_type": "stream",
     "text": [
      "sai\n",
      "21\n",
      "1234567\n",
      "narayana\n",
      "vijaya\n",
      "my name is  sai my age is  21 my phn number is  1234567 my father name is  narayana and my mother name is  vijaya\n"
     ]
    }
   ],
   "source": [
    "name=input()\n",
    "age=int(input())\n",
    "phn_no=int(input())\n",
    "father_name=input()\n",
    "mother_name=input()\n",
    "print(\"my name is \",name, \"my age is \",age,\"my phn number is \",phn_no,\"my father name is \",father_name,\"and my mother name is \",mother_name)\n"
   ]
  },
  {
   "cell_type": "markdown",
   "id": "569af512",
   "metadata": {},
   "source": [
    "#7. Write a python program to count how many times “@” occurred\n",
    "Ex: S@ndhy@ Output: 2"
   ]
  },
  {
   "cell_type": "code",
   "execution_count": 13,
   "id": "209d4537",
   "metadata": {},
   "outputs": [
    {
     "name": "stdout",
     "output_type": "stream",
     "text": [
      "s@ndhy@\n"
     ]
    },
    {
     "data": {
      "text/plain": [
       "2"
      ]
     },
     "execution_count": 13,
     "metadata": {},
     "output_type": "execute_result"
    }
   ],
   "source": [
    "a=input()\n",
    "a.count('@')"
   ]
  },
  {
   "cell_type": "markdown",
   "id": "f900cb23",
   "metadata": {},
   "source": [
    "#8. Write a python program to get only names from the string\n",
    "Ex: “name1.@gmail.com, name2.@gmail.com, name3.@gmail.com”\n",
    "Output-name1, name2, name3\n"
   ]
  },
  {
   "cell_type": "markdown",
   "id": "2dd861e5",
   "metadata": {},
   "source": [
    "#s=\"name1.@gmail.com, name2.@gmail.com, name3.@gmail.com\"\n",
    "a=s.split(\".@gmail.com\")\n",
    "b=\" \".join(a)\n",
    "b\n"
   ]
  },
  {
   "cell_type": "code",
   "execution_count": 14,
   "id": "673f63b8",
   "metadata": {},
   "outputs": [
    {
     "data": {
      "text/plain": [
       "'name1 , name2 , name3 '"
      ]
     },
     "execution_count": 14,
     "metadata": {},
     "output_type": "execute_result"
    }
   ],
   "source": [
    "s=\"name1.@gmail.com, name2.@gmail.com, name3.@gmail.com\"\n",
    "a=s.split(\".@gmail.com\")\n",
    "b=\" \".join(a)\n",
    "b\n"
   ]
  },
  {
   "cell_type": "markdown",
   "id": "253d3c23",
   "metadata": {},
   "source": [
    "9. Write a program to remove vowels from the entire alphabets\n",
    "Ex: “abcdefghijklmnopqrstuvwxyz”\n",
    "Output: “bcdfghjklmnpqrstvwxyz”"
   ]
  },
  {
   "cell_type": "code",
   "execution_count": 15,
   "id": "367e9e7d",
   "metadata": {},
   "outputs": [
    {
     "data": {
      "text/plain": [
       "'bcdfghjklmnpqrstvwxyz'"
      ]
     },
     "execution_count": 15,
     "metadata": {},
     "output_type": "execute_result"
    }
   ],
   "source": [
    "a=\"abcdefghijklmnopqrstuvwxyz\"\n",
    "b=['a','e','i','o','u']\n",
    "c=\"\"\n",
    "for i in a:\n",
    "    if i not in b:\n",
    "        c=c+i\n",
    "c        "
   ]
  },
  {
   "cell_type": "markdown",
   "id": "757b6874",
   "metadata": {},
   "source": [
    "10. Find all occurrences of a substring in a given string by ignoring the case\n",
    "Ex: str1 = \"Welcome to Innomatics. innomatics awesome, isn't it?\"\n",
    "Output: The innomatics count is:2"
   ]
  },
  {
   "cell_type": "code",
   "execution_count": 16,
   "id": "58c59292",
   "metadata": {},
   "outputs": [
    {
     "name": "stdout",
     "output_type": "stream",
     "text": [
      "the innomatics count is: 2\n"
     ]
    }
   ],
   "source": [
    "str1 = \"Welcome to Innomatics. innomatics awesome, isn't it?\"\n",
    "a=str1.lower()\n",
    "b=a.count(\"innomatics\")\n",
    "print(\"the innomatics count is:\",b)"
   ]
  },
  {
   "cell_type": "code",
   "execution_count": null,
   "id": "c4f25341",
   "metadata": {},
   "outputs": [],
   "source": []
  }
 ],
 "metadata": {
  "kernelspec": {
   "display_name": "Python 3 (ipykernel)",
   "language": "python",
   "name": "python3"
  },
  "language_info": {
   "codemirror_mode": {
    "name": "ipython",
    "version": 3
   },
   "file_extension": ".py",
   "mimetype": "text/x-python",
   "name": "python",
   "nbconvert_exporter": "python",
   "pygments_lexer": "ipython3",
   "version": "3.9.13"
  }
 },
 "nbformat": 4,
 "nbformat_minor": 5
}
